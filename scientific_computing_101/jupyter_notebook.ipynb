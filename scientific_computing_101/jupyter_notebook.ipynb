{
 "cells": [
  {
   "cell_type": "markdown",
   "metadata": {},
   "source": [
    "a jupyter notebook is a collection of code blocks, comment/text blocks and output blocks which could contain both text and images. a notebook can be executed to run the code blocks. a notebook can be converted to various formats, depending on need. a notebook is for exploratory analysis and development efforts, before moving the code/logic to more robust python modules.\n",
    "\n",
    "show example of a code block and an accompanying output block.\n",
    "then an example of text/comment block, optionally with LaTeX characters\n",
    "and finally, show an example of accessing shell commands.\n",
    "\n",
    "optionally, show examples of the numerous jupyter/ipython magic functions which provide easy access to certain python features/commands e.g. the timeit magic and the cython magic."
   ]
  }
 ],
 "metadata": {
  "kernelspec": {
   "display_name": "Python 2",
   "language": "python",
   "name": "python2"
  },
  "language_info": {
   "codemirror_mode": {
    "name": "ipython",
    "version": 2
   },
   "file_extension": ".py",
   "mimetype": "text/x-python",
   "name": "python",
   "nbconvert_exporter": "python",
   "pygments_lexer": "ipython2",
   "version": "2.7.10"
  }
 },
 "nbformat": 4,
 "nbformat_minor": 2
}
