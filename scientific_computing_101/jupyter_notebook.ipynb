{
 "cells": [
  {
   "cell_type": "markdown",
   "metadata": {
    "deletable": true,
    "editable": true
   },
   "source": [
    "## Jupyter Notebook\n",
    "\n",
    "> Notebook documents contains the inputs and outputs of a interactive session as well as additional text that accompanies the code but is not meant for execution. In this way, notebook files can serve as a complete computational record of a session, interleaving executable code with explanatory text, mathematics, and rich representations of resulting objects. These documents are internally JSON files and are saved with the .ipynb extension.\n",
    "\n",
    "Ref : http://jupyter-notebook.readthedocs.io/en/latest/notebook.html#notebook-documents\n",
    "\n",
    "> The notebook consists of a sequence of cells. A cell is a multiline text input field, and its contents can be executed by using Shift-Enter, or by clicking either the “Play” button the toolbar, or Cell | Run in the menu bar. The execution behavior of a cell is determined the cell’s type. There are four types of cells: code cells, markdown cells, raw cells and heading cells. Every cell starts off being a code cell, but its type can be changed by using a drop-down on the toolbar (which will be “Code”, initially), or via keyboard shortcuts.\n",
    "\n",
    "Ref : http://jupyter-notebook.readthedocs.io/en/latest/notebook.html#structure-of-a-notebook-document\n",
    "\n",
    "> When a cell is in edit mode, the Cell Mode Indicator will change to reflect the cell’s state. This state is indicated by a small pencil icon on the top right of the interface. When the cell is in command mode, there is no icon in that location.\n",
    "\n",
    "The user can enter the Edit mode of an executed cell by pressing `Enter` and escape the edit mode by pressing `Esc`\n",
    "\n",
    "Ref : http://jupyter-notebook.readthedocs.io/en/latest/ui_components.html#edit-mode-and-notebook-editor"
   ]
  },
  {
   "cell_type": "markdown",
   "metadata": {
    "deletable": true,
    "editable": true
   },
   "source": [
    "## A Code cell"
   ]
  },
  {
   "cell_type": "markdown",
   "metadata": {
    "deletable": true,
    "editable": true
   },
   "source": [
    "> A code cell allows you to edit and write new code, with full syntax highlighting and tab completion. By default, the language associated to a code cell is Python. When a code cell is executed, code that it contains is sent to the kernel associated with the notebook. The results that are returned from this computation are then displayed in the notebook as the cell’s output. The output is not limited to text, with many other possible forms of output are also possible, including matplotlib figures and HTML tables (as used, for example, in the pandas data analysis package). This is known as IPython’s rich display capability.\n",
    "\n",
    "Ref : http://jupyter-notebook.readthedocs.io/en/latest/notebook.html#code-cells"
   ]
  },
  {
   "cell_type": "code",
   "execution_count": 1,
   "metadata": {
    "collapsed": false,
    "deletable": true,
    "editable": true
   },
   "outputs": [
    {
     "name": "stdout",
     "output_type": "stream",
     "text": [
      "4\n"
     ]
    }
   ],
   "source": [
    "from __future__ import print_function\n",
    "\n",
    "x = 4\n",
    "print(x)"
   ]
  },
  {
   "cell_type": "markdown",
   "metadata": {
    "deletable": true,
    "editable": true
   },
   "source": [
    "## A Markdown cell\n",
    "\n",
    "> You can document the computational process in a literate way, alternating descriptive text with code, using rich text. In IPython this is accomplished by marking up text with the Markdown language. The corresponding cells are called Markdown cells. The Markdown language provides a simple way to perform this text markup, that is, to specify which parts of the text should be emphasized (italics), bold, form lists, etc. \n",
    "\n",
    "> When a Markdown cell is executed, the Markdown code is converted into the corresponding formatted rich text. Markdown allows arbitrary HTML code for formatting.\n",
    "\n",
    "> Within Markdown cells, you can also include mathematics in a straightforward way, using standard LaTeX notation: ``$...$`` for inline mathematics and ``$$...$$`` for displayed mathematics. When the Markdown cell is executed, the LaTeX portions are automatically rendered in the HTML output as equations with high quality typography. This is made possible by MathJax, which supports a large subset of LaTeX functionality\n",
    "\n",
    "> Standard mathematics environments defined by LaTeX and AMS-LaTeX (the amsmath package) also work, such as ``\\begin{equation}...\\end{equation}``, and ``\\begin{align}...\\end{align}``. New LaTeX macros may be defined using standard methods, such as \\newcommand, by placing them anywhere between math delimiters in a Markdown cell. These definitions are then available throughout the rest of the IPython session.\n",
    "\n",
    "Ref : http://jupyter-notebook.readthedocs.io/en/latest/notebook.html#markdown-cells\n",
    "\n",
    "Lists can be rendered in Markdown, such as\n",
    "\n",
    "- list\n",
    "- of\n",
    "- items\n",
    "\n",
    "and math equations can be rendered, such as\n",
    "\n",
    "$\\alpha^2 + \\beta_2 = \\gamma_2$"
   ]
  },
  {
   "cell_type": "markdown",
   "metadata": {
    "deletable": true,
    "editable": true
   },
   "source": [
    "## Output Cell with Embedded plot"
   ]
  },
  {
   "cell_type": "code",
   "execution_count": 2,
   "metadata": {
    "collapsed": false,
    "deletable": true,
    "editable": true
   },
   "outputs": [
    {
     "data": {
      "text/plain": [
       "[<matplotlib.lines.Line2D at 0x1136bcbd0>]"
      ]
     },
     "execution_count": 2,
     "metadata": {},
     "output_type": "execute_result"
    },
    {
     "data": {
      "image/png": "[encoded data removed]",
      "text/plain": [
       "<matplotlib.figure.Figure at 0x11104fc10>"
      ]
     },
     "metadata": {},
     "output_type": "display_data"
    }
   ],
   "source": [
    "%matplotlib inline\n",
    "import matplotlib.pyplot as plt\n",
    "\n",
    "plt.plot(range(-5, 5), range(10))"
   ]
  },
  {
   "cell_type": "markdown",
   "metadata": {
    "deletable": true,
    "editable": true
   },
   "source": [
    "## Running Shell commands"
   ]
  },
  {
   "cell_type": "code",
   "execution_count": 3,
   "metadata": {
    "collapsed": false,
    "deletable": true,
    "editable": true
   },
   "outputs": [
    {
     "name": "stdout",
     "output_type": "stream",
     "text": [
      "\u001b[34mApplications\u001b[m\u001b[m       \u001b[34mLibrary\u001b[m\u001b[m            Untitled1.ipynb    \u001b[34mnltk_data\u001b[m\u001b[m\r\n",
      "\u001b[34mApr_IITM_Python\u001b[m\u001b[m    \u001b[34mMovies\u001b[m\u001b[m             \u001b[34mVirtualBox VMs\u001b[m\u001b[m     rodeo.log\r\n",
      "\u001b[34mClionProjects\u001b[m\u001b[m      \u001b[34mMusic\u001b[m\u001b[m              \u001b[34m__pycache__\u001b[m\u001b[m        \u001b[30m\u001b[43mscipy.in\u001b[m\u001b[m\r\n",
      "\u001b[34mDesktop\u001b[m\u001b[m            \u001b[34mPictures\u001b[m\u001b[m           \u001b[34mdata_import_tool\u001b[m\u001b[m   v162 by months.png\r\n",
      "\u001b[34mDocuments\u001b[m\u001b[m          \u001b[34mPublic\u001b[m\u001b[m             dtrace.txt\r\n",
      "\u001b[34mDownloads\u001b[m\u001b[m          \u001b[34mPycharmProjects\u001b[m\u001b[m    \u001b[34menthought\u001b[m\u001b[m\r\n",
      "\u001b[34mGithub\u001b[m\u001b[m             Untitled.ipynb     installers\r\n"
     ]
    }
   ],
   "source": [
    "!ls ~"
   ]
  },
  {
   "cell_type": "markdown",
   "metadata": {
    "deletable": true,
    "editable": true
   },
   "source": [
    "## Jupyter Magics\n",
    "\n",
    "A few commonly used Jupyter commands, referred to as line and cell magics, are\n",
    "\n",
    "- `%matplotlib inline`\n",
    "- `%pprint`\n",
    "- `%precision`\n",
    "- `%reset`\n",
    "- `%timeit`\n",
    "- `%%cython`, if the cython library is installed"
   ]
  },
  {
   "cell_type": "markdown",
   "metadata": {
    "deletable": true,
    "editable": true
   },
   "source": [
    "## Further reading\n",
    "\n",
    "- https://ipython.readthedocs.io/en/stable/\n",
    "- http://jupyter-notebook.readthedocs.io/en/latest/\n",
    "- https://ipython.readthedocs.io/en/stable/interactive/magics.html"
   ]
  }
 ],
 "metadata": {
  "kernelspec": {
   "display_name": "Python 2",
   "language": "python",
   "name": "python2"
  },
  "language_info": {
   "codemirror_mode": {
    "name": "ipython",
    "version": 2
   },
   "file_extension": ".py",
   "mimetype": "text/x-python",
   "name": "python",
   "nbconvert_exporter": "python",
   "pygments_lexer": "ipython2",
   "version": "2.7.13"
  }
 },
 "nbformat": 4,
 "nbformat_minor": 2
}
