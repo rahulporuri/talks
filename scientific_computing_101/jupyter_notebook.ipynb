{
 "cells": [
  {
   "cell_type": "markdown",
   "metadata": {
    "deletable": true,
    "editable": true
   },
   "source": [
    "A Jupyter Notebook is a collection of code blocks, comment/text blocks and output blocks which could contain both text and images. A Notebook can be executed to run the code blocks. A notebook is for exploratory analysis and development efforts, before moving the code/logic to more robust python modules."
   ]
  },
  {
   "cell_type": "markdown",
   "metadata": {
    "deletable": true,
    "editable": true
   },
   "source": [
    "## Running Shell commands"
   ]
  },
  {
   "cell_type": "code",
   "execution_count": 1,
   "metadata": {
    "collapsed": false,
    "deletable": true,
    "editable": true
   },
   "outputs": [
    {
     "name": "stdout",
     "output_type": "stream",
     "text": [
      "\u001b[34mApplications\u001b[m\u001b[m       \u001b[34mLibrary\u001b[m\u001b[m            Untitled1.ipynb    \u001b[34mnltk_data\u001b[m\u001b[m\r\n",
      "\u001b[34mApr_IITM_Python\u001b[m\u001b[m    \u001b[34mMovies\u001b[m\u001b[m             \u001b[34mVirtualBox VMs\u001b[m\u001b[m     rodeo.log\r\n",
      "\u001b[34mClionProjects\u001b[m\u001b[m      \u001b[34mMusic\u001b[m\u001b[m              \u001b[34m__pycache__\u001b[m\u001b[m        \u001b[30m\u001b[43mscipy.in\u001b[m\u001b[m\r\n",
      "\u001b[34mDesktop\u001b[m\u001b[m            \u001b[34mPictures\u001b[m\u001b[m           \u001b[34mdata_import_tool\u001b[m\u001b[m   v162 by months.png\r\n",
      "\u001b[34mDocuments\u001b[m\u001b[m          \u001b[34mPublic\u001b[m\u001b[m             dtrace.txt\r\n",
      "\u001b[34mDownloads\u001b[m\u001b[m          \u001b[34mPycharmProjects\u001b[m\u001b[m    \u001b[34menthought\u001b[m\u001b[m\r\n",
      "\u001b[34mGithub\u001b[m\u001b[m             Untitled.ipynb     installers\r\n"
     ]
    }
   ],
   "source": [
    "!ls ~"
   ]
  },
  {
   "cell_type": "markdown",
   "metadata": {
    "deletable": true,
    "editable": true
   },
   "source": [
    "## A Code cell"
   ]
  },
  {
   "cell_type": "code",
   "execution_count": 2,
   "metadata": {
    "collapsed": true,
    "deletable": true,
    "editable": true
   },
   "outputs": [],
   "source": [
    "from __future__ import print_function"
   ]
  },
  {
   "cell_type": "code",
   "execution_count": 3,
   "metadata": {
    "collapsed": false,
    "deletable": true,
    "editable": true
   },
   "outputs": [
    {
     "name": "stdout",
     "output_type": "stream",
     "text": [
      "4\n"
     ]
    }
   ],
   "source": [
    "x = 4\n",
    "print(x)"
   ]
  },
  {
   "cell_type": "markdown",
   "metadata": {
    "deletable": true,
    "editable": true
   },
   "source": [
    "## A Text cell"
   ]
  },
  {
   "cell_type": "markdown",
   "metadata": {
    "deletable": true,
    "editable": true
   },
   "source": [
    "The variable x is going to be used for ..."
   ]
  },
  {
   "cell_type": "markdown",
   "metadata": {},
   "source": [
    "## Output Cell with Embedded plot"
   ]
  },
  {
   "cell_type": "code",
   "execution_count": 4,
   "metadata": {
    "collapsed": false,
    "deletable": true,
    "editable": true
   },
   "outputs": [],
   "source": [
    "%matplotlib inline\n",
    "import matplotlib.pyplot as plt\n",
    "import math"
   ]
  },
  {
   "cell_type": "code",
   "execution_count": 5,
   "metadata": {
    "collapsed": false,
    "deletable": true,
    "editable": true
   },
   "outputs": [
    {
     "data": {
      "text/plain": [
       "[<matplotlib.lines.Line2D at 0x106248a90>]"
      ]
     },
     "execution_count": 5,
     "metadata": {},
     "output_type": "execute_result"
    },
    {
     "data": {
      "image/png": "[encoded data removed]",
      "text/plain": [
       "<matplotlib.figure.Figure at 0x10ec325d0>"
      ]
     },
     "metadata": {},
     "output_type": "display_data"
    }
   ],
   "source": [
    "plt.plot(range(-5, 5), range(10))"
   ]
  },
  {
   "cell_type": "markdown",
   "metadata": {},
   "source": [
    "## Jupyter Magics"
   ]
  },
  {
   "cell_type": "markdown",
   "metadata": {
    "deletable": true,
    "editable": true
   },
   "source": [
    "A few commonly used Jupyter commands, referred to as line and cell magics, are\n",
    "\n",
    "- `%matplotlib inline`\n",
    "- `%pprint`\n",
    "- `%precision`\n",
    "- `%reset`\n",
    "- `%timeit`\n",
    "- `%%cython`, if the cython library is installed"
   ]
  },
  {
   "cell_type": "markdown",
   "metadata": {},
   "source": [
    "## Further reading"
   ]
  },
  {
   "cell_type": "markdown",
   "metadata": {
    "deletable": true,
    "editable": true
   },
   "source": [
    "- https://ipython.readthedocs.io/en/stable/\n",
    "- http://jupyter-notebook.readthedocs.io/en/latest/\n",
    "- https://ipython.readthedocs.io/en/stable/interactive/magics.html"
   ]
  }
 ],
 "metadata": {
  "kernelspec": {
   "display_name": "Python 2",
   "language": "python",
   "name": "python2"
  },
  "language_info": {
   "codemirror_mode": {
    "name": "ipython",
    "version": 2
   },
   "file_extension": ".py",
   "mimetype": "text/x-python",
   "name": "python",
   "nbconvert_exporter": "python",
   "pygments_lexer": "ipython2",
   "version": "2.7.13"
  }
 },
 "nbformat": 4,
 "nbformat_minor": 2
}
