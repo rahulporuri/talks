{
 "cells": [
  {
   "cell_type": "markdown",
   "metadata": {},
   "source": [
    "let's jump right in"
   ]
  },
  {
   "cell_type": "markdown",
   "metadata": {},
   "source": [
    "we again start with immediately trying to create a Pandas Dataframe by passing a dictionary to pandas.DataFrame. now that we have a DataFrame, let's save it to disk and load data from disk into a DataFrame.\n",
    "\n",
    "let's take a moment to talk about the differences between a numpy Array and a pandas DataFrame. for one, pandas DataFrames are not restricted to contain values of only a single data type; each column can be of a different data type, unlike a two-dimensional numpy array where all values have to be of the same data type. talk about how we can set the data types of various columns in the DataFrame when constructing the DataFrame or after the DataFrame is constructed.\n",
    "\n",
    "let's talk about the advantages of using a DataFrame over a numpy array, starting with? advantage of different columns being of different data types? support for datetime values? what?\n",
    "\n",
    "let's also talk about the convenience of using row/column indices to access values in the DataFrame instead of having to use indices. note that we can still use indices, in very much the same way we used indices to access values from a numpy Array.\n",
    "\n",
    "let's now look at the different methods supported by a DataFrame. Having done so, let's take a step back and talk about the Pandas Series, which is the one-dimensional equivalent of the DataFrame. note that accessing columns from a DataFrame returns Series objects.\n",
    "\n",
    "finally, let's plot DataFrames i.e. plot columns in a DataFrame using the plot method."
   ]
  }
 ],
 "metadata": {
  "kernelspec": {
   "display_name": "Python 2",
   "language": "python",
   "name": "python2"
  },
  "language_info": {
   "codemirror_mode": {
    "name": "ipython",
    "version": 2
   },
   "file_extension": ".py",
   "mimetype": "text/x-python",
   "name": "python",
   "nbconvert_exporter": "python",
   "pygments_lexer": "ipython2",
   "version": "2.7.10"
  }
 },
 "nbformat": 4,
 "nbformat_minor": 2
}
